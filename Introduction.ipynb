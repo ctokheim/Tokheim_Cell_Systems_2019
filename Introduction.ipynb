{
 "cells": [
  {
   "cell_type": "markdown",
   "metadata": {},
   "source": [
    "## CHASMplus\n",
    "\n",
    "### About\n",
    "\n",
    "With the ever-growing pace of DNA sequencing of human tumors, the total number of detected mutations in cancer continues to accelerate. However, only a few mutations in each tumor may actually “drive” the growth of cancer, some of which can have value for diagnostic, prognostic, or therapeutic purposes. Based on a new rigorous statistical analysis of The Cancer Genome Atlas (TCGA), we find a prominent emerging role for rare missense mutations predicted to be “drivers” of cancer, which may have potential implications for genome-driven precision oncology, since rare driver mutations that are putatively actionable could be newly observed in a patient, thus requiring personalized modeling and assessment. To extend beyond the TCGA, we provide a systematic resource to assess such newly observed missense mutations as cancer drivers. Lastly, we assess the driver landscape of human cancers and find that discovery for some cancer types are already approaching saturation.\n",
    "\n",
    "In this Jupyter Notebook, we present a new statistically rigorous method, CHASMplus, for predicting the driver status of missense mutations. After careful benchmarking, we applied CHASMplus to 8,657 sequenced tumors from The Cancer Genome Atlas (TCGA) spanning 32 types of cancer. We explore the role for rare driver missense mutations in cancer and, when possible, relate predictions to supporting functional evidence.\n",
    "\n",
    "#### CHASMplus training data\n",
    "\n",
    "If you are interested in the mutations CHASMplus used for training, you can download it via wget:\n",
    "\n",
    "```bash\n",
    "$ wget https://karchinlab.org/datasets/formatted_training_list.txt.gz\n",
    "$ gunzip formatted_training_list.txt.gz\n",
    "```\n",
    "\n",
    "### Jupyter Notebooks\n",
    "\n",
    "We have prepared jupyter notebooks to record our analysis of CHASMplus. You can use these notebooks and associated data to look at alternative methods which we have already analyzed, but also potentially compare additional new methods to these established results. For running your own methods, you will need to execute the method yourself on the same mutations and modify the data yourself.\n",
    "\n",
    "#### Download\n",
    "\n",
    "Be sure to be in the directory you would like to use for this protocol. The first step is to obtain the example data. You can use the wget command in bash to download the example data. On Mac, you may need to first install the wget command via HomeBrew by brew install wget. In the following command we assume you are in the top-level directory. On windows you will need to download the file from the URL (without wget) and place it in the jupyter notebook directory.\n",
    "\n",
    "```bash\n",
    "$ wget https://karchinlab.org/datasets/Tokheim_Cell_Systems_2019.tar.gz\n",
    "$ tar xvzf Tokheim_Cell_Systems_2019.tar.gz\n",
    "```\n",
    "\n",
    "#### Directory structure\n",
    "\n",
    "The \"data\" folder contains raw data used as input for analysis. The Generated supplementary tables and figures are saved in the \"results\" and \"figures\" folders, respectively. Saved [chimera sessions](https://www.cgl.ucsf.edu/chimera/) for visualizing the CHASMplus results for ERBB2 and PPP2R1A are found in the chimera directory."
   ]
  }
 ],
 "metadata": {
  "kernelspec": {
   "display_name": "Python 3",
   "language": "python",
   "name": "python3"
  },
  "language_info": {
   "codemirror_mode": {
    "name": "ipython",
    "version": 3
   },
   "file_extension": ".py",
   "mimetype": "text/x-python",
   "name": "python",
   "nbconvert_exporter": "python",
   "pygments_lexer": "ipython3",
   "version": "3.6.8"
  },
  "latex_envs": {
   "bibliofile": "biblio.bib",
   "cite_by": "apalike",
   "current_citInitial": 1,
   "eqLabelWithNumbers": true,
   "eqNumInitial": 0
  }
 },
 "nbformat": 4,
 "nbformat_minor": 2
}
